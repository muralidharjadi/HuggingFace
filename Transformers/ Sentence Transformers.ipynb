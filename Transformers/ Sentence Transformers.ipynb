{
 "cells": [
  {
   "cell_type": "code",
   "execution_count": 10,
   "id": "ea8773e5-5db8-4c38-9ac2-3e2372ecc010",
   "metadata": {},
   "outputs": [],
   "source": [
    "#!pip install -U sentence-transformers\n",
    "#!pip install sentence-transformers"
   ]
  },
  {
   "cell_type": "code",
   "execution_count": 11,
   "id": "8c6c6791",
   "metadata": {},
   "outputs": [],
   "source": [
    "import warnings\n",
    "warnings.filterwarnings(\"ignore\")\n",
    "from sentence_transformers import SentenceTransformer,util"
   ]
  },
  {
   "cell_type": "code",
   "execution_count": 13,
   "id": "16a95ba4",
   "metadata": {},
   "outputs": [],
   "source": [
    "model = SentenceTransformer('all-MiniLM-L6-v2')"
   ]
  },
  {
   "cell_type": "code",
   "execution_count": 14,
   "id": "0d96ecaa",
   "metadata": {
    "scrolled": true
   },
   "outputs": [
    {
     "data": {
      "text/plain": [
       "SentenceTransformer(\n",
       "  (0): Transformer({'max_seq_length': 256, 'do_lower_case': False}) with Transformer model: BertModel \n",
       "  (1): Pooling({'word_embedding_dimension': 384, 'pooling_mode_cls_token': False, 'pooling_mode_mean_tokens': True, 'pooling_mode_max_tokens': False, 'pooling_mode_mean_sqrt_len_tokens': False, 'pooling_mode_weightedmean_tokens': False, 'pooling_mode_lasttoken': False, 'include_prompt': True})\n",
       "  (2): Normalize()\n",
       ")"
      ]
     },
     "execution_count": 14,
     "metadata": {},
     "output_type": "execute_result"
    }
   ],
   "source": [
    "model"
   ]
  },
  {
   "cell_type": "markdown",
   "id": "590d3ee4",
   "metadata": {},
   "source": [
    "## Generate Embeding"
   ]
  },
  {
   "cell_type": "code",
   "execution_count": 15,
   "id": "0ddcd2b8",
   "metadata": {},
   "outputs": [],
   "source": [
    "sentences = ['This framework generates embeddings for each input sentence',\n",
    "             'Sentences are passed as a list of string.']"
   ]
  },
  {
   "cell_type": "code",
   "execution_count": 16,
   "id": "7548d272",
   "metadata": {},
   "outputs": [],
   "source": [
    "embeddings = model.encode(sentences)"
   ]
  },
  {
   "cell_type": "code",
   "execution_count": 17,
   "id": "647a7737",
   "metadata": {},
   "outputs": [
    {
     "name": "stdout",
     "output_type": "stream",
     "text": [
      "Sentence: This framework generates embeddings for each input sentence\n",
      "Embedding: [-1.37173515e-02 -4.28515263e-02 -1.56285875e-02  1.40537536e-02\n",
      "  3.95537913e-02  1.21796280e-01  2.94333845e-02 -3.17524262e-02\n",
      "  3.54959369e-02 -7.93140158e-02  1.75878629e-02 -4.04369831e-02\n",
      "  4.97259423e-02  2.54912544e-02 -7.18700737e-02  8.14968720e-02\n",
      "  1.47069606e-03  4.79626879e-02 -4.50336337e-02 -9.92174894e-02\n",
      " -2.81769522e-02  6.45046234e-02  4.44670096e-02 -4.76217121e-02\n",
      " -3.52952592e-02  4.38671708e-02 -5.28566055e-02  4.33029199e-04\n",
      "  1.01921499e-01  1.64072271e-02  3.26996148e-02 -3.45986746e-02\n",
      "  1.21339420e-02  7.94871002e-02  4.58341930e-03  1.57777946e-02\n",
      " -9.68206767e-03  2.87625827e-02 -5.05806059e-02 -1.55793997e-02\n",
      " -2.87906788e-02 -9.62283555e-03  3.15557122e-02  2.27349084e-02\n",
      "  8.71449634e-02 -3.85027304e-02 -8.84718448e-02 -8.75497237e-03\n",
      " -2.12343093e-02  2.08923612e-02 -9.02077928e-02 -5.25732674e-02\n",
      " -1.05638728e-02  2.88310852e-02 -1.61455274e-02  6.17835298e-03\n",
      " -1.23234494e-02 -1.07337255e-02  2.83353832e-02 -5.28567582e-02\n",
      " -3.58617790e-02 -5.97989261e-02 -1.09055284e-02  2.91566346e-02\n",
      "  7.97979161e-02 -3.27884598e-04  6.83499128e-03  1.32718617e-02\n",
      " -4.24619988e-02  1.87657103e-02 -9.89234298e-02  2.09049918e-02\n",
      " -8.69605988e-02 -1.50151988e-02 -4.86201495e-02  8.04414898e-02\n",
      " -3.67702870e-03 -6.65044636e-02  1.14556789e-01 -3.04228812e-02\n",
      "  2.96631474e-02 -2.80695353e-02  4.64989915e-02 -2.25513987e-02\n",
      "  8.54223147e-02  3.15446630e-02  7.34541640e-02 -2.21861843e-02\n",
      " -5.29678278e-02  1.27130048e-02 -5.27339727e-02 -1.06188677e-01\n",
      "  7.04731196e-02  2.76736543e-02 -8.05531815e-02  2.39649843e-02\n",
      " -2.65125148e-02 -2.17330940e-02  4.35275696e-02  4.84712310e-02\n",
      " -2.37067379e-02  2.85768192e-02  1.11846134e-01 -6.34936094e-02\n",
      " -1.58318505e-02 -2.26169191e-02 -1.31027717e-02 -1.62067043e-03\n",
      " -3.60928811e-02 -9.78297070e-02 -4.67729047e-02  1.76271349e-02\n",
      " -3.97492163e-02 -1.76425892e-04  3.39627750e-02 -2.09633410e-02\n",
      "  6.33663312e-03 -2.59411186e-02  8.10410231e-02  6.14393242e-02\n",
      " -5.44593530e-03  6.48276135e-02 -1.16844051e-01  2.36860793e-02\n",
      " -1.32058384e-02 -1.12476490e-01  1.90049075e-02 -1.74660943e-34\n",
      "  5.58949746e-02  1.94244497e-02  4.65438589e-02  5.18645719e-02\n",
      "  3.89390588e-02  3.40540782e-02 -4.32114080e-02  7.90637210e-02\n",
      " -9.79530290e-02 -1.27441091e-02 -2.91870907e-02  1.02051869e-02\n",
      "  1.88115798e-02  1.08942501e-01  6.63465038e-02 -5.35295196e-02\n",
      " -3.29228379e-02  4.69826795e-02  2.28883326e-02  2.74114646e-02\n",
      " -2.91983001e-02  3.12706642e-02 -2.22850665e-02 -1.02282159e-01\n",
      " -2.79116239e-02  1.13793202e-02  9.06308666e-02 -4.75414880e-02\n",
      " -1.00718938e-01 -1.23232054e-02 -7.96928480e-02 -1.44636426e-02\n",
      " -7.76400715e-02 -7.66920857e-03  9.73956473e-03  2.24204715e-02\n",
      "  7.77267739e-02 -3.17152962e-03  2.11537890e-02 -3.30394097e-02\n",
      "  9.55249276e-03 -3.73012125e-02  2.61360705e-02 -9.79087781e-03\n",
      " -6.31505400e-02  5.77435503e-03 -3.80031057e-02  1.29684974e-02\n",
      " -1.82499569e-02 -1.56282876e-02 -1.23360881e-03  5.55579141e-02\n",
      "  1.13067152e-04 -5.61256297e-02  7.40165189e-02  1.84452180e-02\n",
      " -2.66368426e-02  1.31952073e-02  7.50086457e-02 -2.46796906e-02\n",
      " -3.24005671e-02 -1.57675166e-02 -8.03515781e-03 -5.61317988e-03\n",
      "  1.05687520e-02  3.26161296e-03 -3.91990095e-02 -9.38677117e-02\n",
      "  1.14227176e-01  6.57304823e-02 -4.72633988e-02  1.45087773e-02\n",
      " -3.54489796e-02 -3.37761156e-02 -5.15506119e-02 -3.81000806e-03\n",
      " -5.15036285e-02 -5.93429431e-02 -1.69411884e-03  7.42107630e-02\n",
      " -4.20091636e-02 -7.19975308e-02  3.17250527e-02 -1.66303478e-02\n",
      "  3.96981044e-03 -6.52750731e-02  2.77391039e-02 -7.51648992e-02\n",
      "  2.27455888e-02 -3.91368307e-02  1.54315894e-02 -5.54908440e-02\n",
      "  1.23318760e-02 -2.59520859e-02  6.66423887e-02 -6.91258591e-34\n",
      "  3.31628919e-02  8.47929120e-02 -6.65583685e-02  3.33541483e-02\n",
      "  4.71609831e-03  1.35361888e-02 -5.38694225e-02  9.20693949e-02\n",
      " -2.96876580e-02  3.16219628e-02 -2.37497035e-02  1.98771134e-02\n",
      "  1.03446200e-01 -9.06947181e-02  6.30626967e-03  1.42886424e-02\n",
      "  1.19293798e-02  6.43724017e-03  4.20104489e-02  1.25345066e-02\n",
      "  3.93019319e-02  5.35691939e-02 -4.30749916e-02  6.10432588e-02\n",
      " -5.40012807e-05  6.91682398e-02  1.05520245e-02  1.22111747e-02\n",
      " -7.23185018e-02  2.50469428e-02 -5.18371016e-02 -4.36562225e-02\n",
      " -6.71818480e-02  1.34828398e-02 -7.25888833e-02  7.04167224e-03\n",
      "  6.58939555e-02  1.08994311e-02 -2.60007405e-03  5.49968705e-02\n",
      "  5.06966710e-02  3.27948555e-02 -6.68833405e-02  6.45557567e-02\n",
      " -2.52075624e-02 -2.92572156e-02 -1.16696671e-01  3.24064046e-02\n",
      "  5.85858300e-02 -3.51756550e-02 -7.15240762e-02  2.24936176e-02\n",
      " -1.00786731e-01 -4.74544764e-02 -7.61962608e-02 -5.87166548e-02\n",
      "  4.21138518e-02 -7.47213811e-02  1.98468138e-02 -3.36505612e-03\n",
      " -5.29736876e-02  2.74729729e-02  3.45736817e-02 -6.11846708e-02\n",
      "  1.06364809e-01 -9.64120477e-02 -4.55945022e-02  1.51489768e-02\n",
      " -5.13526006e-03 -6.64447695e-02  4.31721285e-02 -1.10405684e-02\n",
      " -9.80250072e-03  7.53783286e-02 -1.49570992e-02 -4.80208546e-02\n",
      "  5.80726601e-02 -2.43896767e-02 -2.23137736e-02 -4.36992161e-02\n",
      "  5.12053892e-02 -3.28625701e-02  1.08763300e-01  6.08926788e-02\n",
      "  3.30795581e-03  5.53820245e-02  8.43201056e-02  1.27087608e-02\n",
      "  3.84465717e-02  6.52325600e-02 -2.94684079e-02  5.08005396e-02\n",
      " -2.09347550e-02  1.46135643e-01  2.25561224e-02 -1.77227744e-08\n",
      " -5.02672642e-02 -2.79224740e-04 -1.00328632e-01  2.42811423e-02\n",
      " -7.54043236e-02 -3.79139967e-02  3.96049842e-02  3.10079716e-02\n",
      " -9.05702729e-03 -6.50411695e-02  4.05453146e-02  4.83390354e-02\n",
      " -4.56962511e-02  4.76006093e-03  2.64357100e-03  9.35614109e-02\n",
      " -4.02599946e-02  3.27402279e-02  1.18298279e-02  5.54344766e-02\n",
      "  1.48052245e-01  7.21189082e-02  2.76975828e-04  1.68651324e-02\n",
      "  8.34880117e-03 -8.76156613e-03 -1.33649753e-02  6.14236929e-02\n",
      "  1.57168023e-02  6.94961026e-02  1.08621661e-02  6.08018115e-02\n",
      " -5.33421859e-02 -3.47924195e-02 -3.36272009e-02  6.93907142e-02\n",
      "  1.22987935e-02 -1.45237386e-01 -2.06970214e-03 -4.61132526e-02\n",
      "  3.72748380e-03 -5.59355365e-03 -1.00659862e-01 -4.45953310e-02\n",
      "  5.40921316e-02  4.98892134e-03  1.49534438e-02 -8.26060101e-02\n",
      "  6.26630858e-02 -5.01907384e-03 -4.81857657e-02 -3.53991054e-02\n",
      "  9.03387554e-03 -2.42338032e-02  5.66267483e-02  2.51528993e-02\n",
      " -1.70709025e-02 -1.24780312e-02  3.19518372e-02  1.38420770e-02\n",
      " -1.55815054e-02  1.00178257e-01  1.23657189e-01 -4.22967002e-02]\n",
      "\n",
      "Sentence: Sentences are passed as a list of string.\n",
      "Embedding: [ 5.64525053e-02  5.50023988e-02  3.13796178e-02  3.39485407e-02\n",
      " -3.54247056e-02  8.34667832e-02  9.88800749e-02  7.27544865e-03\n",
      " -6.68657618e-03 -7.65809976e-03  7.93738365e-02  7.39693060e-04\n",
      "  1.49291884e-02 -1.51046962e-02  3.67674418e-02  4.78743464e-02\n",
      " -4.81969379e-02 -3.76052335e-02 -4.60278392e-02 -8.89816135e-02\n",
      "  1.20228112e-01  1.30663216e-01 -3.73936072e-02  2.47857883e-03\n",
      "  2.55824975e-03  7.25814477e-02 -6.80436417e-02 -5.24696261e-02\n",
      "  4.90234122e-02  2.99563278e-02 -5.84429428e-02 -2.02263128e-02\n",
      "  2.08821818e-02  9.76691842e-02  3.52390334e-02  3.91140990e-02\n",
      "  1.05668018e-02  1.56234496e-03 -1.30823040e-02  8.52902513e-03\n",
      " -4.84092627e-03 -2.03766394e-02 -2.71800887e-02  2.83307526e-02\n",
      "  3.66017893e-02  2.51276251e-02 -9.90862027e-02  1.15626603e-02\n",
      " -3.60380597e-02 -7.23783970e-02 -1.12670094e-01  1.12942280e-02\n",
      " -3.86397392e-02  4.67386208e-02 -2.88460776e-02  2.26703696e-02\n",
      " -8.52407329e-03  3.32815237e-02 -1.06581184e-03 -7.09745809e-02\n",
      " -6.31169826e-02 -5.72187155e-02 -6.16026111e-02  5.47146387e-02\n",
      "  1.18317660e-02 -4.66261171e-02  2.56959945e-02 -7.07413489e-03\n",
      " -5.73842786e-02  4.12839651e-02 -5.91503270e-02  5.89021817e-02\n",
      " -4.41697463e-02  4.65081111e-02 -3.15814242e-02  5.58312461e-02\n",
      "  5.54578565e-02 -5.96533716e-02  4.06407192e-02  4.83760843e-03\n",
      " -4.96768281e-02 -1.00944355e-01  3.40077914e-02  4.13270667e-03\n",
      " -2.93522538e-03  2.11837515e-02 -3.73962075e-02 -2.79067252e-02\n",
      " -4.61768024e-02  5.26138395e-02 -2.79734954e-02 -1.62379280e-01\n",
      "  6.61042109e-02  1.72274280e-02 -5.45111904e-03  4.74473760e-02\n",
      " -3.82237695e-02 -3.96896824e-02  1.34544959e-02  4.49653976e-02\n",
      "  4.53672092e-03  2.82978676e-02  8.36632922e-02 -1.00858072e-02\n",
      " -1.19353987e-01 -3.84624377e-02  4.82858866e-02 -9.46083963e-02\n",
      "  1.91854220e-02 -9.96517986e-02 -6.30596727e-02  3.02695949e-02\n",
      "  1.17402663e-02 -4.78372015e-02 -6.20264001e-03 -3.32850330e-02\n",
      " -4.04388783e-03  1.28307184e-02  4.05254103e-02  7.56476820e-02\n",
      "  2.92434637e-02  2.84270886e-02 -2.78938990e-02  1.66858025e-02\n",
      " -2.47961506e-02 -6.83650747e-02  2.89968587e-02 -5.39867674e-33\n",
      " -2.69015715e-03 -2.65069529e-02 -6.47942361e-04 -8.46195593e-03\n",
      " -7.35154897e-02  4.94086510e-03 -5.97841926e-02  1.03437947e-02\n",
      "  2.12907302e-03 -2.88215769e-03 -3.17076482e-02 -9.42364037e-02\n",
      "  3.03019900e-02  7.00226575e-02  4.50685546e-02  3.69439647e-02\n",
      "  1.13593321e-02  3.53026986e-02  5.50451083e-03  1.34416716e-03\n",
      "  3.46122473e-03  7.75047466e-02  5.45112416e-02 -7.92055950e-02\n",
      " -9.31696892e-02 -4.03398834e-02  3.10668815e-02 -3.83081585e-02\n",
      " -5.89443445e-02  1.93331763e-02 -2.67160442e-02 -7.91937783e-02\n",
      "  1.04179409e-04  7.70621225e-02  4.16603461e-02  8.90932232e-02\n",
      "  3.56842913e-02 -1.09153185e-02  3.71498354e-02 -2.07070373e-02\n",
      " -2.46100966e-02 -2.05025300e-02  2.62201354e-02  3.43590528e-02\n",
      "  4.39250916e-02 -8.20520427e-03 -8.40710253e-02  4.24170792e-02\n",
      "  4.87499088e-02  5.95384911e-02  2.87747476e-02  3.37638222e-02\n",
      " -4.07442935e-02 -1.66376075e-03  7.91927502e-02  3.41088437e-02\n",
      " -5.72850695e-04  1.87749695e-02 -1.36963902e-02  7.38332868e-02\n",
      "  5.74496167e-04  8.33505094e-02  5.60810827e-02 -1.13710836e-02\n",
      "  4.42611575e-02  2.69581769e-02 -4.80536073e-02 -3.15087363e-02\n",
      "  7.75226131e-02  1.81773026e-02 -8.83005038e-02 -7.85519183e-03\n",
      " -6.22243099e-02  7.19373226e-02 -2.33474877e-02  6.52482081e-03\n",
      " -9.49529372e-03 -9.88313183e-02  4.01306599e-02  3.07396874e-02\n",
      " -2.21607164e-02 -9.45911780e-02  1.02367867e-02  1.02187753e-01\n",
      " -4.12960052e-02 -3.15778069e-02  4.74752225e-02 -1.10209800e-01\n",
      "  1.69614758e-02 -3.71709466e-02 -1.03262076e-02 -4.72538210e-02\n",
      " -1.20213889e-02 -1.93255413e-02  5.79292290e-02  4.23866136e-34\n",
      "  3.92012931e-02  8.41361731e-02 -1.02946691e-01  6.92259967e-02\n",
      "  1.68821346e-02 -3.26760672e-02  9.65956878e-03  1.80899519e-02\n",
      "  2.17940137e-02  1.63189434e-02 -9.69292074e-02  3.74850724e-03\n",
      " -2.38456707e-02 -3.44056003e-02  7.11962506e-02  9.21911793e-04\n",
      " -6.23857602e-03  3.23754400e-02 -8.90364870e-04  5.01903100e-03\n",
      " -4.24537994e-02  9.89084020e-02 -4.60321121e-02  4.69705127e-02\n",
      " -1.75284892e-02 -7.02514872e-03  1.32743660e-02 -5.30151986e-02\n",
      "  2.66406406e-03  1.45819141e-02  7.43342284e-03 -3.07131726e-02\n",
      " -2.09416449e-02  8.24110061e-02 -5.15893809e-02 -2.71178372e-02\n",
      "  1.17582999e-01  7.72502460e-03 -1.89523250e-02  3.94559242e-02\n",
      "  7.17360154e-02  2.59116646e-02  2.75191832e-02  9.50541347e-03\n",
      " -3.02355364e-02 -4.07944545e-02 -1.04028471e-01 -7.97423720e-03\n",
      " -3.64454882e-03  3.29716541e-02 -2.35954709e-02 -7.50513421e-03\n",
      " -5.82234114e-02 -3.17906030e-02 -4.18049507e-02  2.17453614e-02\n",
      " -6.67291954e-02 -4.89104502e-02  4.58516926e-03 -2.66046263e-02\n",
      " -1.12597004e-01  5.11167683e-02  5.48534282e-02 -6.69857040e-02\n",
      "  1.26766279e-01 -8.59487429e-02 -5.94231449e-02 -2.92186649e-03\n",
      " -1.14875836e-02 -1.26025781e-01 -3.48279951e-03 -9.12001804e-02\n",
      " -1.22933045e-01  1.33776907e-02 -4.75774854e-02 -6.57933205e-02\n",
      " -3.39409783e-02 -3.07107493e-02 -5.22033647e-02 -2.35464312e-02\n",
      "  5.90035170e-02 -3.85758057e-02  3.19701470e-02  4.05118614e-02\n",
      "  1.67077743e-02 -3.58280912e-02  1.45688038e-02  3.20137329e-02\n",
      " -1.34843402e-02  6.07819632e-02 -8.31399672e-03 -1.08106360e-02\n",
      "  4.69410792e-02  7.66133592e-02 -4.23400328e-02 -2.11963300e-08\n",
      " -7.25292414e-02 -4.20227908e-02 -6.12374283e-02  5.24666607e-02\n",
      " -1.42363897e-02  1.18486863e-02 -1.40789421e-02 -3.67529914e-02\n",
      " -4.44977731e-02 -1.15140332e-02  5.23316786e-02  2.96652112e-02\n",
      " -4.62780297e-02 -3.70892435e-02  1.89129785e-02  2.04306897e-02\n",
      " -2.24006008e-02 -1.48562919e-02 -1.79504361e-02  4.20007519e-02\n",
      "  1.40942540e-02 -2.83492506e-02 -1.16862990e-01  1.48956608e-02\n",
      " -7.30576401e-04  5.66028431e-02 -2.68739983e-02  1.09106682e-01\n",
      "  2.94566224e-03  1.19267926e-01  1.14212438e-01  8.92973691e-02\n",
      " -1.70255266e-02 -4.99053821e-02 -2.11930666e-02  3.18421200e-02\n",
      "  7.03436136e-02 -1.02929428e-01  8.23816732e-02  2.81968210e-02\n",
      "  3.21146026e-02  3.79107893e-02 -1.09553084e-01  8.19620416e-02\n",
      "  8.73216838e-02 -5.73563799e-02 -2.01709289e-02 -5.69444522e-02\n",
      " -1.30338687e-02 -5.55683970e-02 -1.32966200e-02  8.64012819e-03\n",
      "  5.30012436e-02 -4.06847112e-02  2.71709077e-02 -2.55950331e-03\n",
      "  3.05775702e-02 -4.61865366e-02  4.68034716e-03 -3.64947170e-02\n",
      "  6.80802464e-02  6.65087700e-02  8.49151909e-02 -3.32849137e-02]\n",
      "\n"
     ]
    }
   ],
   "source": [
    "for sentence, embedding in zip(sentences, embeddings):\n",
    "    print(\"Sentence:\", sentence)\n",
    "    print(\"Embedding:\", embedding)\n",
    "    print(\"\")"
   ]
  },
  {
   "cell_type": "markdown",
   "id": "b40ed02a",
   "metadata": {},
   "source": [
    "## Cosine-Similarity"
   ]
  },
  {
   "cell_type": "code",
   "execution_count": 18,
   "id": "60770b43",
   "metadata": {},
   "outputs": [
    {
     "name": "stdout",
     "output_type": "stream",
     "text": [
      "Cosine-Similarity: tensor([[0.5398]])\n"
     ]
    }
   ],
   "source": [
    "emb1 = model.encode(\"I am eating Apple\")\n",
    "emb2 = model.encode(\"I like fruits\")\n",
    "cos_sim = util.cos_sim(emb1, emb2)\n",
    "print(\"Cosine-Similarity:\", cos_sim)"
   ]
  },
  {
   "cell_type": "markdown",
   "id": "213609b4",
   "metadata": {},
   "source": [
    "## Compute cosine similarity between all pairs"
   ]
  },
  {
   "cell_type": "code",
   "execution_count": 20,
   "id": "e9549e2d",
   "metadata": {},
   "outputs": [],
   "source": [
    "sentences = ['A man is eating food.',\n",
    "          'A man is eating a piece of bread.',\n",
    "          'The girl is carrying a baby.',\n",
    "          'A man is riding a horse.',\n",
    "          'A woman is playing violin.',\n",
    "          'Two men pushed carts through the woods.',\n",
    "          'A man is riding a white horse on an enclosed ground.',\n",
    "          'A monkey is playing drums.',\n",
    "          'Someone in a gorilla costume is playing a set of drums.'\n",
    "          ]\n",
    "\n",
    "#Encode all sentences\n",
    "embeddings = model.encode(sentences)\n",
    "\n",
    "#Compute cosine similarity between all pairs\n",
    "cos_sim = util.cos_sim(embeddings, embeddings)"
   ]
  },
  {
   "cell_type": "code",
   "execution_count": 21,
   "id": "27f42a95",
   "metadata": {},
   "outputs": [
    {
     "data": {
      "text/plain": [
       "tensor([[ 1.0000,  0.7553, -0.1050,  0.2474, -0.0704, -0.0333,  0.1707,  0.0476,\n",
       "          0.0630],\n",
       "        [ 0.7553,  1.0000, -0.0610,  0.1442, -0.0809, -0.0216,  0.1157,  0.0362,\n",
       "          0.0216],\n",
       "        [-0.1050, -0.0610,  1.0000, -0.1088,  0.0217, -0.0413, -0.0928,  0.0231,\n",
       "          0.0247],\n",
       "        [ 0.2474,  0.1442, -0.1088,  1.0000, -0.0348,  0.0362,  0.7369,  0.0821,\n",
       "          0.1389],\n",
       "        [-0.0704, -0.0809,  0.0217, -0.0348,  1.0000, -0.1654, -0.0592,  0.1961,\n",
       "          0.2564],\n",
       "        [-0.0333, -0.0216, -0.0413,  0.0362, -0.1654,  1.0000,  0.0769, -0.0380,\n",
       "         -0.0895],\n",
       "        [ 0.1707,  0.1157, -0.0928,  0.7369, -0.0592,  0.0769,  1.0000,  0.0495,\n",
       "          0.1191],\n",
       "        [ 0.0476,  0.0362,  0.0231,  0.0821,  0.1961, -0.0380,  0.0495,  1.0000,\n",
       "          0.6433],\n",
       "        [ 0.0630,  0.0216,  0.0247,  0.1389,  0.2564, -0.0895,  0.1191,  0.6433,\n",
       "          1.0000]])"
      ]
     },
     "execution_count": 21,
     "metadata": {},
     "output_type": "execute_result"
    }
   ],
   "source": [
    "cos_sim"
   ]
  },
  {
   "cell_type": "code",
   "execution_count": 22,
   "id": "9816e7eb",
   "metadata": {},
   "outputs": [
    {
     "data": {
      "text/plain": [
       "[(tensor(0.7553), 0, 1),\n",
       " (tensor(-0.1050), 0, 2),\n",
       " (tensor(0.2474), 0, 3),\n",
       " (tensor(-0.0704), 0, 4),\n",
       " (tensor(-0.0333), 0, 5),\n",
       " (tensor(0.1707), 0, 6),\n",
       " (tensor(0.0476), 0, 7),\n",
       " (tensor(0.0630), 0, 8),\n",
       " (tensor(-0.0610), 1, 2),\n",
       " (tensor(0.1442), 1, 3),\n",
       " (tensor(-0.0809), 1, 4),\n",
       " (tensor(-0.0216), 1, 5),\n",
       " (tensor(0.1157), 1, 6),\n",
       " (tensor(0.0362), 1, 7),\n",
       " (tensor(0.0216), 1, 8),\n",
       " (tensor(-0.1088), 2, 3),\n",
       " (tensor(0.0217), 2, 4),\n",
       " (tensor(-0.0413), 2, 5),\n",
       " (tensor(-0.0928), 2, 6),\n",
       " (tensor(0.0231), 2, 7),\n",
       " (tensor(0.0247), 2, 8),\n",
       " (tensor(-0.0348), 3, 4),\n",
       " (tensor(0.0362), 3, 5),\n",
       " (tensor(0.7369), 3, 6),\n",
       " (tensor(0.0821), 3, 7),\n",
       " (tensor(0.1389), 3, 8),\n",
       " (tensor(-0.1654), 4, 5),\n",
       " (tensor(-0.0592), 4, 6),\n",
       " (tensor(0.1961), 4, 7),\n",
       " (tensor(0.2564), 4, 8),\n",
       " (tensor(0.0769), 5, 6),\n",
       " (tensor(-0.0380), 5, 7),\n",
       " (tensor(-0.0895), 5, 8),\n",
       " (tensor(0.0495), 6, 7),\n",
       " (tensor(0.1191), 6, 8),\n",
       " (tensor(0.6433), 7, 8)]"
      ]
     },
     "execution_count": 22,
     "metadata": {},
     "output_type": "execute_result"
    }
   ],
   "source": [
    "#Add all pairs to a list with their cosine similarity score\n",
    "all_sentence_combinations = []\n",
    "for i in range(len(cos_sim)-1):\n",
    "    for j in range(i+1, len(cos_sim)):\n",
    "        all_sentence_combinations.append((cos_sim[i][j], i, j))\n",
    "all_sentence_combinations   "
   ]
  },
  {
   "cell_type": "code",
   "execution_count": 23,
   "id": "ab7a2077",
   "metadata": {},
   "outputs": [
    {
     "name": "stdout",
     "output_type": "stream",
     "text": [
      "Top-5 most similar pairs:\n",
      "A man is eating food. \t A man is eating a piece of bread. \t 0.7553\n",
      "A man is riding a horse. \t A man is riding a white horse on an enclosed ground. \t 0.7369\n",
      "A monkey is playing drums. \t Someone in a gorilla costume is playing a set of drums. \t 0.6433\n",
      "A woman is playing violin. \t Someone in a gorilla costume is playing a set of drums. \t 0.2564\n",
      "A man is eating food. \t A man is riding a horse. \t 0.2474\n"
     ]
    }
   ],
   "source": [
    "#Sort list by the highest cosine similarity score\n",
    "all_sentence_combinations = sorted(all_sentence_combinations, key=lambda x: x[0], reverse=True)\n",
    "\n",
    "print(\"Top-5 most similar pairs:\")\n",
    "for score, i, j in all_sentence_combinations[0:5]:\n",
    "    print(\"{} \\t {} \\t {:.4f}\".format(sentences[i], sentences[j], cos_sim[i][j]))"
   ]
  },
  {
   "cell_type": "markdown",
   "id": "14f0bd8a",
   "metadata": {},
   "source": [
    "## Semantic search"
   ]
  },
  {
   "cell_type": "code",
   "execution_count": 25,
   "id": "e7ff36ea",
   "metadata": {},
   "outputs": [],
   "source": [
    "from sentence_transformers import SentenceTransformer, util\n",
    "model = SentenceTransformer('clips/mfaq')"
   ]
  },
  {
   "cell_type": "code",
   "execution_count": 26,
   "id": "714b5f18",
   "metadata": {},
   "outputs": [
    {
     "name": "stdout",
     "output_type": "stream",
     "text": [
      "[[{'corpus_id': 0, 'score': 0.5507140755653381}, {'corpus_id': 2, 'score': 0.49931809306144714}, {'corpus_id': 1, 'score': 0.4596717655658722}]]\n"
     ]
    }
   ],
   "source": [
    "question = \"How many models can I host on HuggingFace?\"\n",
    "answer_1 = \"All plans come with unlimited private models and datasets.\"\n",
    "answer_2 = \"AutoNLP is an automatic way to train and deploy state-of-the-art NLP models, seamlessly integrated with the Hugging Face ecosystem.\"\n",
    "answer_3 = \"Based on how much training data and model variants are created, we send you a compute cost and payment link - as low as $10 per job.\"\n",
    "\n",
    "query_embedding = model.encode(question)\n",
    "corpus_embeddings = model.encode([answer_1, answer_2, answer_3])\n",
    "\n",
    "print(util.semantic_search(query_embedding, corpus_embeddings))"
   ]
  },
  {
   "cell_type": "code",
   "execution_count": 27,
   "id": "83983678",
   "metadata": {},
   "outputs": [],
   "source": [
    "from transformers import pipeline"
   ]
  },
  {
   "cell_type": "code",
   "execution_count": 30,
   "id": "dd772d9c",
   "metadata": {},
   "outputs": [
    {
     "name": "stderr",
     "output_type": "stream",
     "text": [
      "No model was supplied, defaulted to distilbert/distilbert-base-cased-distilled-squad and revision 626af31 (https://huggingface.co/distilbert/distilbert-base-cased-distilled-squad).\n",
      "Using a pipeline without specifying a model name and revision in production is not recommended.\n"
     ]
    },
    {
     "data": {
      "text/plain": [
       "{'score': 0.7017186284065247, 'start': 20, 'end': 29, 'answer': 'unlimited'}"
      ]
     },
     "execution_count": 30,
     "metadata": {},
     "output_type": "execute_result"
    }
   ],
   "source": [
    "qa_model = pipeline(\"question-answering\")\n",
    "question = \"How many models can I host on HuggingFace?\"\n",
    "context = \"All plans come with unlimited private models and datasets.\"\n",
    "qa_model(question = question, context = context)"
   ]
  },
  {
   "cell_type": "markdown",
   "id": "3c37d084",
   "metadata": {},
   "source": [
    "## Clustering"
   ]
  },
  {
   "cell_type": "code",
   "execution_count": 31,
   "id": "132521f4",
   "metadata": {},
   "outputs": [],
   "source": [
    "from sklearn.cluster import KMeans\n",
    "import numpy as np"
   ]
  },
  {
   "cell_type": "code",
   "execution_count": 33,
   "id": "c332d0dd",
   "metadata": {},
   "outputs": [],
   "source": [
    "embedder = SentenceTransformer('all-MiniLM-L6-v2')\n",
    "\n",
    "# Corpus with example sentences\n",
    "corpus = ['A man is eating food.',\n",
    "          'A man is eating a piece of bread.',\n",
    "          'Horse is eating grass.',\n",
    "          'A man is eating pasta.',\n",
    "          'A Woman is eating Biryani.',\n",
    "          'The girl is carrying a baby.',\n",
    "          'The baby is carried by the woman',\n",
    "          'A man is riding a horse.',\n",
    "          'A man is riding a white horse on an enclosed ground.',\n",
    "          'A monkey is playing drums.',\n",
    "          'Someone in a gorilla costume is playing a set of drums.',\n",
    "          'A cheetah is running behind its prey.',\n",
    "          'A cheetah chases prey on across a field.',\n",
    "          'The cheetah is chasing a man who is riding the horse.',\n",
    "          'man and women with their baby are watching cheetah in zoo'\n",
    "          ]\n",
    "corpus_embeddings = embedder.encode(corpus)\n",
    "\n",
    "# Normalize the embeddings to unit length\n",
    "corpus_embeddings = corpus_embeddings /  np.linalg.norm(corpus_embeddings, axis=1, keepdims=True)"
   ]
  },
  {
   "cell_type": "code",
   "execution_count": 34,
   "id": "32c56feb",
   "metadata": {},
   "outputs": [
    {
     "name": "stdout",
     "output_type": "stream",
     "text": [
      "[2 2 0 2 2 1 1 0 0 3 3 3 3 0 3]\n"
     ]
    }
   ],
   "source": [
    "clustering_model = KMeans(n_clusters=4)\n",
    "clustering_model.fit(corpus_embeddings)\n",
    "cluster_assignment = clustering_model.labels_\n",
    "print(cluster_assignment)"
   ]
  },
  {
   "cell_type": "code",
   "execution_count": 35,
   "id": "e253e926",
   "metadata": {},
   "outputs": [
    {
     "data": {
      "text/plain": [
       "{2: ['A man is eating food.',\n",
       "  'A man is eating a piece of bread.',\n",
       "  'A man is eating pasta.',\n",
       "  'A Woman is eating Biryani.'],\n",
       " 0: ['Horse is eating grass.',\n",
       "  'A man is riding a horse.',\n",
       "  'A man is riding a white horse on an enclosed ground.',\n",
       "  'The cheetah is chasing a man who is riding the horse.'],\n",
       " 1: ['The girl is carrying a baby.', 'The baby is carried by the woman'],\n",
       " 3: ['A monkey is playing drums.',\n",
       "  'Someone in a gorilla costume is playing a set of drums.',\n",
       "  'A cheetah is running behind its prey.',\n",
       "  'A cheetah chases prey on across a field.',\n",
       "  'man and women with their baby are watching cheetah in zoo']}"
      ]
     },
     "execution_count": 35,
     "metadata": {},
     "output_type": "execute_result"
    }
   ],
   "source": [
    "clustered_sentences = {}\n",
    "for sentence_id, cluster_id in enumerate(cluster_assignment):\n",
    "    if cluster_id not in clustered_sentences:\n",
    "        clustered_sentences[cluster_id] = []\n",
    "\n",
    "    clustered_sentences[cluster_id].append(corpus[sentence_id])\n",
    "clustered_sentences"
   ]
  },
  {
   "cell_type": "code",
   "execution_count": 36,
   "id": "35f58811",
   "metadata": {},
   "outputs": [
    {
     "data": {
      "text/plain": [
       "{2: ['A man is eating food.',\n",
       "  'A man is eating a piece of bread.',\n",
       "  'A man is eating pasta.',\n",
       "  'A Woman is eating Biryani.'],\n",
       " 0: ['Horse is eating grass.',\n",
       "  'A man is riding a horse.',\n",
       "  'A man is riding a white horse on an enclosed ground.',\n",
       "  'The cheetah is chasing a man who is riding the horse.'],\n",
       " 1: ['The girl is carrying a baby.', 'The baby is carried by the woman'],\n",
       " 3: ['A monkey is playing drums.',\n",
       "  'Someone in a gorilla costume is playing a set of drums.',\n",
       "  'A cheetah is running behind its prey.',\n",
       "  'A cheetah chases prey on across a field.',\n",
       "  'man and women with their baby are watching cheetah in zoo']}"
      ]
     },
     "execution_count": 36,
     "metadata": {},
     "output_type": "execute_result"
    }
   ],
   "source": [
    "clustered_sentences = {}\n",
    "for sentence_id, cluster_id in enumerate(cluster_assignment):\n",
    "    if cluster_id not in clustered_sentences:\n",
    "        clustered_sentences[cluster_id] = []\n",
    "\n",
    "    clustered_sentences[cluster_id].append(corpus[sentence_id])\n",
    "clustered_sentences"
   ]
  },
  {
   "cell_type": "code",
   "execution_count": null,
   "id": "a451ec0b",
   "metadata": {},
   "outputs": [],
   "source": []
  }
 ],
 "metadata": {
  "kernelspec": {
   "display_name": "Python 3 (ipykernel)",
   "language": "python",
   "name": "python3"
  },
  "language_info": {
   "codemirror_mode": {
    "name": "ipython",
    "version": 3
   },
   "file_extension": ".py",
   "mimetype": "text/x-python",
   "name": "python",
   "nbconvert_exporter": "python",
   "pygments_lexer": "ipython3",
   "version": "3.11.7"
  }
 },
 "nbformat": 4,
 "nbformat_minor": 5
}
